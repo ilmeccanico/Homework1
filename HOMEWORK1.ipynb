{
 "cells": [
  {
   "cell_type": "code",
   "execution_count": null,
   "metadata": {},
   "outputs": [],
   "source": [
    "#Say \"Hello, World!\" With Python\n",
    "\n",
    "my_string = \"Hello, World!\"\n",
    "\n",
    "print(\"Hello, World!\")\n"
   ]
  },
  {
   "cell_type": "code",
   "execution_count": null,
   "metadata": {},
   "outputs": [],
   "source": [
    "#Arithmetic Operators\n",
    "\n",
    "\n",
    "a = int(input())\n",
    "b = int(input())\n",
    "\n",
    "print(a+b)\n",
    "print(a-b)\n",
    "print(a*b)\n"
   ]
  },
  {
   "cell_type": "code",
   "execution_count": null,
   "metadata": {},
   "outputs": [],
   "source": [
    "#Python: Division\n",
    "if __name__ == '__main__':\n",
    "    a = int(input())\n",
    "    b = int(input())\n",
    "\n",
    "print(a//b)\n",
    "print(a/b)\n"
   ]
  },
  {
   "cell_type": "code",
   "execution_count": 1,
   "metadata": {},
   "outputs": [
    {
     "name": "stdout",
     "output_type": "stream",
     "text": [
      "2\n",
      "0\n",
      "1\n"
     ]
    }
   ],
   "source": [
    "#Loops\n",
    "\n",
    "if __name__ == '__main__':\n",
    "    n = int(input())\n",
    "\n",
    "for i in range(0,n):\n",
    " a=n-n+i\n",
    " print(pow(a,2))\n"
   ]
  },
  {
   "cell_type": "code",
   "execution_count": null,
   "metadata": {},
   "outputs": [],
   "source": [
    "#print a function\n",
    "\n",
    "if __name__ == '__main__':\n",
    "    n = int(input())\n",
    "\n",
    "for i in range(1,n+1):\n",
    "     print(i, end=\"\")\n"
   ]
  },
  {
   "cell_type": "code",
   "execution_count": null,
   "metadata": {},
   "outputs": [],
   "source": [
    "#write a function\n",
    "def is_leap(year):\n",
    "    return year%4==0 and (year % 400 == 0 or year % 100 != 0)\n",
    "\n"
   ]
  },
  {
   "cell_type": "code",
   "execution_count": null,
   "metadata": {},
   "outputs": [],
   "source": [
    "#Python If-Else \n",
    "import math\n",
    "import os\n",
    "import random\n",
    "import re\n",
    "import sys\n",
    "\n",
    "\n",
    "\n",
    "n = int(input().strip())\n",
    "if n%2!=0:\n",
    "    print(\"Weird\")\n",
    "elif 2<=n<=5:\n",
    "    print(\"Not Weird\")\n",
    "elif 6<=n<=20:\n",
    "    print(\"Weird\")\n",
    "else:\n",
    "    print(\"Not Weird\")\n"
   ]
  },
  {
   "cell_type": "code",
   "execution_count": null,
   "metadata": {},
   "outputs": [],
   "source": [
    "#List Comprehensions\n",
    "if __name__ == '__main__':\n",
    "    x = int(input())\n",
    "    y = int(input())\n",
    "    z = int(input())\n",
    "    n = int(input())\n",
    "\n",
    "\n",
    "print ([[a,b,c] for a in range(0,x+1) for b in range(0,y+1) for c in range(0,z+1) if a + b + c != n ])\n"
   ]
  },
  {
   "cell_type": "code",
   "execution_count": null,
   "metadata": {},
   "outputs": [],
   "source": [
    "#find runner-up score\n",
    "if __name__ == '__main__':\n",
    "    n = int(input())\n",
    "    arr = map(int, input().split())\n",
    "\n",
    "p=list(arr)\n",
    "p = list(dict.fromkeys(p))\n",
    "\n",
    "p=sorted(p, reverse=False)\n",
    "print(p[-2])\n",
    "\n"
   ]
  },
  {
   "cell_type": "code",
   "execution_count": null,
   "metadata": {},
   "outputs": [],
   "source": [
    "#finding percentage\n",
    "if __name__ == '__main__':\n",
    "    n = int(input())\n",
    "    student_marks = {}\n",
    "    for _ in range(n):\n",
    "        name, *line = input().split()\n",
    "        scores = list(map(float, line))\n",
    "        student_marks[name] = scores\n",
    "    query_name = input()\n",
    "\n",
    "\n",
    "nomi=list(student_marks)\n",
    "\n",
    "for i in range(0,n):\n",
    "    if nomi[i] == query_name:\n",
    "        g=i\n",
    "\n",
    "\n",
    "nomi[g]=(sum(student_marks[nomi[g]])/3)\n",
    "   \n",
    "   \n",
    "print(\"{:.2f}\".format(nomi[g]))\n"
   ]
  },
  {
   "cell_type": "code",
   "execution_count": null,
   "metadata": {},
   "outputs": [],
   "source": [
    "#input\n",
    "x, k = map(int, input().split())\n",
    "p = eval(input())\n",
    "\n",
    "if p==k:\n",
    "    print(\"True\")\n",
    "else:\n",
    "    print(\"False\")\n"
   ]
  },
  {
   "cell_type": "code",
   "execution_count": null,
   "metadata": {},
   "outputs": [],
   "source": [
    "# python evaluation\n",
    "c=eval(input())\n",
    "c"
   ]
  },
  {
   "cell_type": "code",
   "execution_count": null,
   "metadata": {},
   "outputs": [],
   "source": [
    "#Integers Come In All Sizes\n",
    "a = int(input())\n",
    "b = int(input())\n",
    "c = int(input())\n",
    "d = int(input())\n",
    "print (pow(a,b)+pow(c,d))\n"
   ]
  },
  {
   "cell_type": "code",
   "execution_count": null,
   "metadata": {},
   "outputs": [],
   "source": [
    "#trinagle quest\n",
    "for i in range(1,int(input())): \n",
    "    print((10**(i)//9)*i)\n"
   ]
  },
  {
   "cell_type": "code",
   "execution_count": null,
   "metadata": {},
   "outputs": [],
   "source": [
    "#nested lists\n",
    "\n",
    "if __name__ == '__main__':\n",
    "    x= []\n",
    "    for _ in range(int(input())):\n",
    "        name = input()\n",
    "        score = float(input())\n",
    "        x.append([score, name])\n",
    "\n",
    "    x.sort()\n",
    "    b = [i for i in x if i[0] != x[0][0]]\n",
    "    c = [j for j in b if j[0] == b[0][0]]\n",
    "    \n",
    "    c.sort(key=lambda x: x[1])\n",
    "    for i in range(len(c)):\n",
    "        print(c[i][1])\n",
    "\n"
   ]
  },
  {
   "cell_type": "code",
   "execution_count": null,
   "metadata": {},
   "outputs": [],
   "source": [
    "#designer door mat\n",
    "a, b = map(int,input().split())\n",
    "\n",
    "schema = [('.|.'*(2*i + 1)).center(b, '-') for i in range(a//2)]\n",
    "\n",
    "\n",
    "for i in range(0,a//2):\n",
    "    print(schema[i])\n",
    "for i in range(0,int((b-7)/2)):\n",
    "    print(\"-\",end = '')\n",
    "print(\"WELCOME\",end=\"\")\n",
    "for i in range(0,int(((b-7)/2)-1)):\n",
    "    print(\"-\",end = '')\n",
    "print(\"-\")\n",
    "for i in range (1,a//2+1):\n",
    "    print(schema[-i])\n"
   ]
  },
  {
   "cell_type": "code",
   "execution_count": null,
   "metadata": {},
   "outputs": [],
   "source": [
    "#string formatting\n",
    "def print_formatted(number):\n",
    "\n",
    "    l = len(str(bin(n)))-2\n",
    "\n",
    "    for i in range(1,n+1):\n",
    "        octt=oct(i).replace('0o',\"\").rjust(l,\" \")\n",
    "        s=hex(i)\n",
    "        s=s.upper()\n",
    "        dex=s.replace('0X', \"\").rjust(l,\" \")\n",
    "        binn=bin(i).replace('0b', \"\").rjust(l,\" \")\n",
    "        base=str(i).rjust(l,\" \")\n",
    "    \n",
    "        print(base,octt,dex,binn)\n",
    "\n",
    "\n"
   ]
  },
  {
   "cell_type": "code",
   "execution_count": null,
   "metadata": {},
   "outputs": [],
   "source": [
    "#lists\n",
    "if __name__ == '__main__':\n",
    "    N = int(input())\n",
    "    li = list()\n",
    "    for dummy in range(N):\n",
    "        command = input().split()\n",
    "        if command[0] == 'print':\n",
    "            print(li)\n",
    "        else:\n",
    "            getattr(li, command[0])(*(map(int, command[1:])))\n"
   ]
  },
  {
   "cell_type": "code",
   "execution_count": null,
   "metadata": {},
   "outputs": [],
   "source": [
    "#tuples\n",
    "if __name__ == '__main__':\n",
    "    n = int(input())\n",
    "    integer_list = map(int, input().split())\n",
    "\n",
    "b=tuple(integer_list)\n",
    "\n",
    "print(hash(b))\n"
   ]
  },
  {
   "cell_type": "code",
   "execution_count": null,
   "metadata": {},
   "outputs": [],
   "source": [
    "#swap case\n",
    "def swap_case(s):\n",
    "\n",
    "    return s.swapcase()\n",
    "\n",
    "\n"
   ]
  },
  {
   "cell_type": "code",
   "execution_count": null,
   "metadata": {},
   "outputs": [],
   "source": [
    "#whats ur name\n",
    "def print_full_name(a, b):\n",
    "    \n",
    "\n",
    "    print(\"Hello\",a,b+\"! You just delved into python.\")\n",
    "\n",
    "\n"
   ]
  },
  {
   "cell_type": "code",
   "execution_count": null,
   "metadata": {},
   "outputs": [],
   "source": [
    "#string split and join\n",
    "def split_and_join(line):\n",
    "    line=line.split()\n",
    "    result= \"-\".join(line)\n",
    "    return result\n"
   ]
  },
  {
   "cell_type": "code",
   "execution_count": null,
   "metadata": {},
   "outputs": [],
   "source": [
    "#mutations\n",
    "def mutate_string(string, position, character):\n",
    "    \n",
    "    \n",
    "    new = string[:position] + character + string[position+1:]\n",
    "\n",
    "     return new\n",
    "\n"
   ]
  },
  {
   "cell_type": "code",
   "execution_count": null,
   "metadata": {},
   "outputs": [],
   "source": [
    "#find a string\n",
    "def count_substring(string, sub_string):\n",
    "\n",
    "    a=string\n",
    "    count=0\n",
    "    c=a.find(sub_string)\n",
    "    if c!=-1:\n",
    "        count=1\n",
    "    \n",
    "        for i in range(c+1,len(a)):\n",
    "            if a.startswith(sub_string,i):\n",
    "                count=count+1\n",
    "    else:\n",
    "        return count    \n",
    "    return count\n",
    "\n"
   ]
  },
  {
   "cell_type": "code",
   "execution_count": null,
   "metadata": {},
   "outputs": [],
   "source": [
    "#string validators\n",
    "if __name__ == '__main__':\n",
    "\n",
    "    s = input()\n",
    "lista=list(s)\n",
    "contalphnum=False\n",
    "contalphbet=False   \n",
    "contdig=False\n",
    "contlowe=False  \n",
    "contupper=False\n",
    "\n",
    "for i in range(0,len(lista)):\n",
    "    if lista[i].isalnum():\n",
    "        contalphnum=True\n",
    "    if lista[i].isalpha():\n",
    "        contalphbet=True\n",
    "    if lista[i].isdigit():\n",
    "        contdig=True\n",
    "    if lista[i].islower():\n",
    "        contlowe=True\n",
    "    if lista[i].isupper():\n",
    "        contupper=True\n",
    "\n",
    "\n",
    "print(contalphnum)\n",
    "print(contalphbet)\n",
    "print(contdig)\n",
    "print(contlowe)\n",
    "print(contupper)\n"
   ]
  },
  {
   "cell_type": "code",
   "execution_count": null,
   "metadata": {},
   "outputs": [],
   "source": [
    "#text allignment\n",
    "#Replace all ______ with rjust, ljust or center. \n",
    "\n",
    "thickness = int(input()) #This must be an odd number\n",
    "c = 'H'\n",
    "\n",
    "#Top Cone\n",
    "for i in range(thickness):\n",
    "    print((c*i).rjust(thickness-1)+c+(c*i).ljust(thickness-1))\n",
    "\n",
    "#Top Pillars\n",
    "for i in range(thickness+1):\n",
    "    print((c*thickness).center(thickness*2)+(c*thickness).center(thickness*6))\n",
    "\n",
    "#Middle Belt\n",
    "for i in range((thickness+1)//2):\n",
    "    print((c*thickness*5).center(thickness*6))    \n",
    "\n",
    "#Bottom Pillars\n",
    "for i in range(thickness+1):\n",
    "    print((c*thickness).center(thickness*2)+(c*thickness).center(thickness*6))    \n",
    "\n",
    "#Bottom Cone\n",
    "for i in range(thickness):\n",
    "    print(((c*(thickness-i-1)).rjust(thickness)+c+(c*(thickness-i-1)).ljust(thickness)).rjust(thickness*6))\n",
    "\n"
   ]
  },
  {
   "cell_type": "code",
   "execution_count": null,
   "metadata": {},
   "outputs": [],
   "source": [
    "#text wrap\n",
    "\n",
    "def wrap(string, max_width):\n",
    "    a=(\"\")\n",
    "    for i in range(0, len(string),max_width):\n",
    "        print(string[i:i+max_width])\n",
    "    return a\n",
    "\n",
    "\n"
   ]
  },
  {
   "cell_type": "code",
   "execution_count": null,
   "metadata": {},
   "outputs": [],
   "source": [
    "#capitalize\n",
    "# Complete the solve function below.\n",
    "def solve(s):\n",
    "    a=s.split()\n",
    "    d=[None] * len(a)\n",
    "    for i in range(0,len(a)):\n",
    "        d[i]=a[i].replace(a[i][0],a[i][0].capitalize(),1)\n",
    "\n",
    "    for i in range(0,len(a)):\n",
    "     s=s.replace(a[i],d[i],1)\n",
    "\n",
    "    return s\n",
    "\n"
   ]
  },
  {
   "cell_type": "code",
   "execution_count": null,
   "metadata": {},
   "outputs": [],
   "source": [
    "#the minion game\n",
    "\n",
    "def count_substring(string, sub_string):\n",
    "\n",
    "    a=string\n",
    "    count=0\n",
    "    c=a.find(sub_string)\n",
    "    if c!=-1:\n",
    "        count=1\n",
    "    \n",
    "        for i in range(c+1,len(a)):\n",
    "            if a.startswith(sub_string,i):\n",
    "                count=count+1\n",
    "    else:\n",
    "        return count    \n",
    "    return count\n",
    "def minion_game(string):\n",
    "    z=()\n",
    "    indexK=[]\n",
    "    indexS=[]\n",
    "    paroleS=set()\n",
    "    paroleK=set()\n",
    "    countS=0\n",
    "    countK=0\n",
    "    kevinLet=[]\n",
    "    stuartLet=[]\n",
    "    a=string.lower()\n",
    "    vowels= ['a','e','o','i','u']\n",
    "    for i in range(0,len(a)):\n",
    "        if a[i] in vowels:\n",
    "            kevinLet.append(a[i])\n",
    "            indexK.append(i)\n",
    "        else:\n",
    "            stuartLet.append(a[i])\n",
    "            indexS.append(i)\n",
    "\n",
    "    for j in range(0,len(stuartLet)):\n",
    "        for i in range(0, len(a)):\n",
    "            paroleS.add(a[indexS[j]:len(a)-i]);\n",
    "            \n",
    "    paroleS=list(paroleS)\n",
    "    \n",
    "    if \"\" in paroleS:\n",
    "        paroleS.remove(\"\")\n",
    "    for i in range(0,len(paroleS)):\n",
    "               countS=countS+count_substring(a,paroleS[i])\n",
    "\n",
    "\n",
    "    for j in range(0,len(kevinLet)):\n",
    "        for i in range(0, len(a)):\n",
    "            paroleK.add(a[indexK[j]:len(a)-i]);\n",
    "\n",
    "    paroleK=list(paroleK)\n",
    "    \n",
    "    if \"\" in paroleK:\n",
    "        paroleK.remove(\"\")\n",
    "    for i in range(0,len(paroleK)):\n",
    "               countK=countK+count_substring(a,paroleK[i])\n",
    "\n",
    "    if countS>countK:\n",
    "            z=(\"Stuart \"+str(countS))\n",
    "    else:   \n",
    "            z=(\"Kevin \"+str(countK))\n",
    "    if countS==countK:\n",
    "        z=(\"Draw\")\n",
    "            \n",
    "    \n",
    "    return print(z)\n",
    "\n"
   ]
  },
  {
   "cell_type": "code",
   "execution_count": null,
   "metadata": {},
   "outputs": [],
   "source": [
    "#itertools product\n",
    "from itertools import product\n",
    "\n",
    "a = list(map(int, input().split()))\n",
    "b = list(map(int, input().split()))\n",
    "\n",
    "print(*product(a, b))\n"
   ]
  },
  {
   "cell_type": "code",
   "execution_count": null,
   "metadata": {},
   "outputs": [],
   "source": [
    "#collection counters\n",
    "from collections import Counter\n",
    "\n",
    "n = int(input())\n",
    "ss = Counter(map(int,input().split()))\n",
    "nCust = int(input())\n",
    "earn = 0\n",
    "l1=[]\n",
    "l2=[]\n",
    "for i in range(0,nCust):\n",
    "    a, b = map(int, input().split())\n",
    "    l1.append(a)\n",
    "    l2.append(b)\n",
    "for i in range(0,nCust):\n",
    "     if l1[i] in Counter(ss).keys():\n",
    "        s=list(Counter(ss).keys())\n",
    "        p=list(Counter(ss).values())\n",
    "        indice=s.index(l1[i])\n",
    "        if p[indice]>0:\n",
    "            ss.subtract(Counter([l1[i]]));\n",
    "            earn+=l2[i]\n",
    "\n",
    "print(earn)\n",
    "\n"
   ]
  },
  {
   "cell_type": "code",
   "execution_count": null,
   "metadata": {},
   "outputs": [],
   "source": [
    "#itertools.permutations\n",
    "from itertools import permutations\n",
    "\n",
    "string, num = input().split(\" \")\n",
    "permutations = list(permutations(string, int(num)))\n",
    "permutations.sort()\n",
    "\n",
    "[print(\"\".join(i)) for i in permutations]\n"
   ]
  },
  {
   "cell_type": "code",
   "execution_count": null,
   "metadata": {},
   "outputs": [],
   "source": [
    "#polar cordinates\n",
    "import cmath\n",
    "cor = complex(input().strip())\n",
    "\n",
    "print(cmath.polar(cor)[0])\n",
    "print(cmath.polar(cor)[1])\n",
    "\n"
   ]
  },
  {
   "cell_type": "code",
   "execution_count": null,
   "metadata": {},
   "outputs": [],
   "source": [
    "#introduction to sets\n",
    "def average(array):\n",
    "    average=sum(set(array))/len(set(array))\n",
    "    return average\n"
   ]
  },
  {
   "cell_type": "code",
   "execution_count": null,
   "metadata": {},
   "outputs": [],
   "source": [
    "#symmetric difference\n",
    "\n",
    "n=input()\n",
    "Nn=set(input().split())\n",
    "m=input()\n",
    "Mm =set(input().split())\n",
    "\n",
    "print(\"\\n\".join(sorted(list(Nn ^ Mm), key=int)))\n"
   ]
  },
  {
   "cell_type": "code",
   "execution_count": null,
   "metadata": {},
   "outputs": [],
   "source": [
    "#birthday cake candles\n",
    "import math\n",
    "import os\n",
    "import random\n",
    "import re\n",
    "import sys\n",
    "\n",
    "# Complete the birthdayCakeCandles function below.\n",
    "def birthdayCakeCandles(ar):\n",
    "    return ar.count(max(ar))\n",
    "\n",
    "if __name__ == '__main__':\n",
    "    fptr = open(os.environ['OUTPUT_PATH'], 'w')\n",
    "\n",
    "    ar_count = int(input())\n",
    "\n",
    "    ar = list(map(int, input().rstrip().split()))\n",
    "\n",
    "    result = birthdayCakeCandles(ar)\n",
    "\n",
    "    fptr.write(str(result) + '\\n')\n",
    "\n",
    "    fptr.close()\n"
   ]
  },
  {
   "cell_type": "code",
   "execution_count": null,
   "metadata": {},
   "outputs": [],
   "source": [
    "#kangaroo\n",
    "\n",
    "import math\n",
    "import os\n",
    "import random\n",
    "import re\n",
    "import sys\n",
    "\n",
    "# Complete the kangaroo function below.\n",
    "def kangaroo(x1, v1, x2, v2):\n",
    "    if (v1 > v2) and (x2 - x1) % (v2 - v1) == 0:\n",
    "        result='YES' \n",
    "    else:\n",
    "         result='NO'\n",
    "    return result\n",
    "\n",
    "\n",
    "if __name__ == '__main__':\n",
    "    fptr = open(os.environ['OUTPUT_PATH'], 'w')\n",
    "\n",
    "    x1V1X2V2 = input().split()\n",
    "\n",
    "    x1 = int(x1V1X2V2[0])\n",
    "\n",
    "    v1 = int(x1V1X2V2[1])\n",
    "\n",
    "    x2 = int(x1V1X2V2[2])\n",
    "\n",
    "    v2 = int(x1V1X2V2[3])\n",
    "\n",
    "    result = kangaroo(x1, v1, x2, v2)\n",
    "\n",
    "    fptr.write(result + '\\n')\n",
    "\n",
    "    fptr.close()\n"
   ]
  },
  {
   "cell_type": "code",
   "execution_count": null,
   "metadata": {},
   "outputs": [],
   "source": [
    "#viral advertising\n",
    "import math\n",
    "import os\n",
    "import random\n",
    "import re\n",
    "import sys\n",
    "\n",
    "# Complete the viralAdvertising function below.\n",
    "def viralAdvertising(n):\n",
    "    \n",
    "    s=5 \n",
    "    l=0\n",
    "    for i in range(0,n):\n",
    "        l= l+math.floor(s/2)\n",
    "        s = math.floor(s/2)*3\n",
    "    \n",
    "        \n",
    "        \n",
    "    return l      \n",
    "\n",
    "if __name__ == '__main__':\n",
    "    fptr = open(os.environ['OUTPUT_PATH'], 'w')\n",
    "\n",
    "    n = int(input())\n",
    "\n",
    "    result = viralAdvertising(n)\n",
    "\n",
    "    fptr.write(str(result) + '\\n')\n",
    "\n",
    "    fptr.close()\n"
   ]
  },
  {
   "cell_type": "code",
   "execution_count": null,
   "metadata": {},
   "outputs": [],
   "source": [
    "#day0 hello world\n",
    "\n",
    "# Print a string literal saying \"Hello, World.\" to stdout.\n",
    "print('Hello, World.')\n",
    "print(input_string)\n",
    "\n",
    "# TODO: Write a line of code here that prints the contents of input_string to stdout.\n",
    "\n"
   ]
  },
  {
   "cell_type": "code",
   "execution_count": null,
   "metadata": {},
   "outputs": [],
   "source": [
    "#print a function\n",
    "if __name__ == '__main__':\n",
    "    n = int(input())\n",
    "\n",
    "for i in range(1,n+1):\n",
    "     print(i, end=\"\")\n"
   ]
  }
 ],
 "metadata": {
  "kernelspec": {
   "display_name": "Python 3",
   "language": "python",
   "name": "python3"
  },
  "language_info": {
   "codemirror_mode": {
    "name": "ipython",
    "version": 3
   },
   "file_extension": ".py",
   "mimetype": "text/x-python",
   "name": "python",
   "nbconvert_exporter": "python",
   "pygments_lexer": "ipython3",
   "version": "3.7.3"
  }
 },
 "nbformat": 4,
 "nbformat_minor": 2
}
